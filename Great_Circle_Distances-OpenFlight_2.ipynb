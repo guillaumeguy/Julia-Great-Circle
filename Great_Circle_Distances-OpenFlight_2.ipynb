{
 "metadata": {
  "language": "Julia",
  "name": "",
  "signature": "sha256:0bd153a69b73eb6aaff43152e850f24708bf110161c3b2b6ed9b57ce1034574a"
 },
 "nbformat": 3,
 "nbformat_minor": 0,
 "worksheets": [
  {
   "cells": [
    {
     "cell_type": "heading",
     "level": 2,
     "metadata": {},
     "source": [
      "This Julia script creates great circle intermediary points from the open source data repository OpenFlights.\n",
      "The data is accessible for free @ https://sourceforge.net/p/openflights/code/HEAD/tree/openflights/data/airports.dat?format=raw "
     ]
    },
    {
     "cell_type": "code",
     "collapsed": false,
     "input": [
      "# Resources: \n",
      "# Base functions: http://julia.readthedocs.org/en/latest/stdlib/base/\n",
      "# Dataframes: http://dataframesjl.readthedocs.org/en/latest/introduction.html"
     ],
     "language": "python",
     "metadata": {},
     "outputs": []
    },
    {
     "cell_type": "code",
     "collapsed": false,
     "input": [
      "versioninfo()"
     ],
     "language": "python",
     "metadata": {},
     "outputs": [
      {
       "output_type": "stream",
       "stream": "stdout",
       "text": [
        "Julia Version 0.3.3"
       ]
      },
      {
       "output_type": "stream",
       "stream": "stdout",
       "text": [
        "\n",
        "Commit b24213b* (2014-11-23 20:19 UTC)\n",
        "Platform Info:\n",
        "  System: Windows (x86_64-w64-mingw32)\n",
        "  CPU: Intel(R) Core(TM) i7-3520M CPU @ 2.90GHz\n",
        "  WORD_SIZE: 64\n",
        "  BLAS: libopenblas (USE64BITINT DYNAMIC_ARCH NO_AFFINITY Sandybridge)\n",
        "  LAPACK: libopenblas\n",
        "  LIBM: libopenlibm\n",
        "  LLVM: libLLVM-3.3\n"
       ]
      }
     ],
     "prompt_number": 2
    },
    {
     "cell_type": "code",
     "collapsed": false,
     "input": [
      "#Pkg.update()\n",
      "using DataFrames"
     ],
     "language": "python",
     "metadata": {},
     "outputs": [],
     "prompt_number": 1
    },
    {
     "cell_type": "code",
     "collapsed": false,
     "input": [
      "path2 = \"C:\\\\Users\\\\gguy\\\\Desktop\\\\Blog\\\\20141125 Great Circle Distances\"\n",
      "\n",
      "#os.chdir(path2)\n",
      "input_route_file_name = \"routes.dat\"\n",
      "\n",
      "input_geolocation_file_name = \"airport_geolocations.csv\"\n",
      "\n",
      "ouput_file_name = \"Final_inter_points_for_great_circle_intermediary_open.csv\"\n",
      "\n",
      "cd(path2)\n",
      "pwd()\n",
      "#Raw_Data  = readtable(input_file_name+'.csv')"
     ],
     "language": "python",
     "metadata": {},
     "outputs": [
      {
       "metadata": {},
       "output_type": "pyout",
       "prompt_number": 2,
       "text": [
        "\"C:\\\\Users\\\\gguy\\\\Desktop\\\\Blog\\\\20141125 Great Circle Distances\""
       ]
      }
     ],
     "prompt_number": 2
    },
    {
     "cell_type": "code",
     "collapsed": false,
     "input": [
      "const degrees_to_rad  = 3.141593/180\n",
      "const dist_km = 2200*1.6\n",
      "const dist_step = 100"
     ],
     "language": "python",
     "metadata": {},
     "outputs": [
      {
       "ename": "LoadError",
       "evalue": "cannot declare degrees_to_rad constant; it already has a value\nwhile loading In[14], in expression starting on line 1",
       "output_type": "pyerr",
       "traceback": [
        "cannot declare degrees_to_rad constant; it already has a value\nwhile loading In[14], in expression starting on line 1",
        ""
       ]
      }
     ],
     "prompt_number": 14
    },
    {
     "cell_type": "code",
     "collapsed": false,
     "input": [
      "Geolocation_Data = readtable(input_geolocation_file_name);\n",
      "Raw_Data =  readtable(input_route_file_name)\n",
      "            \n",
      "# Note: Inserting \";\" at the end suppresses the return (like in Matlab)"
     ],
     "language": "python",
     "metadata": {},
     "outputs": [
      {
       "html": [
        "<table class=\"data-frame\"><tr><th></th><th>Airline</th><th>Airline_ID</th><th>Source_airport</th><th>Source_airport_id</th><th>Destination_airport</th><th>Destination_airport_ID</th><th>Codeshare</th><th>Stops</th><th>Equipment</th></tr><tr><th>1</th><td>2B</td><td>410</td><td>AER</td><td>2965</td><td>KZN</td><td>2990</td><td>NA</td><td>0</td><td>CR2</td></tr><tr><th>2</th><td>2B</td><td>410</td><td>ASF</td><td>2966</td><td>KZN</td><td>2990</td><td>NA</td><td>0</td><td>CR2</td></tr><tr><th>3</th><td>2B</td><td>410</td><td>ASF</td><td>2966</td><td>MRV</td><td>2962</td><td>NA</td><td>0</td><td>CR2</td></tr><tr><th>4</th><td>2B</td><td>410</td><td>CEK</td><td>2968</td><td>KZN</td><td>2990</td><td>NA</td><td>0</td><td>CR2</td></tr><tr><th>5</th><td>2B</td><td>410</td><td>CEK</td><td>2968</td><td>OVB</td><td>4078</td><td>NA</td><td>0</td><td>CR2</td></tr><tr><th>6</th><td>2B</td><td>410</td><td>DME</td><td>4029</td><td>KZN</td><td>2990</td><td>NA</td><td>0</td><td>CR2</td></tr><tr><th>7</th><td>2B</td><td>410</td><td>DME</td><td>4029</td><td>NBC</td><td>6969</td><td>NA</td><td>0</td><td>CR2</td></tr><tr><th>8</th><td>2B</td><td>410</td><td>DME</td><td>4029</td><td>TGK</td><td>\\N</td><td>NA</td><td>0</td><td>CR2</td></tr><tr><th>9</th><td>2B</td><td>410</td><td>DME</td><td>4029</td><td>UUA</td><td>6160</td><td>NA</td><td>0</td><td>CR2</td></tr><tr><th>10</th><td>2B</td><td>410</td><td>EGO</td><td>6156</td><td>KGD</td><td>2952</td><td>NA</td><td>0</td><td>CR2</td></tr><tr><th>11</th><td>2B</td><td>410</td><td>EGO</td><td>6156</td><td>KZN</td><td>2990</td><td>NA</td><td>0</td><td>CR2</td></tr><tr><th>12</th><td>2B</td><td>410</td><td>GYD</td><td>2922</td><td>NBC</td><td>6969</td><td>NA</td><td>0</td><td>CR2</td></tr><tr><th>13</th><td>2B</td><td>410</td><td>KGD</td><td>2952</td><td>EGO</td><td>6156</td><td>NA</td><td>0</td><td>CR2</td></tr><tr><th>14</th><td>2B</td><td>410</td><td>KZN</td><td>2990</td><td>AER</td><td>2965</td><td>NA</td><td>0</td><td>CR2</td></tr><tr><th>15</th><td>2B</td><td>410</td><td>KZN</td><td>2990</td><td>ASF</td><td>2966</td><td>NA</td><td>0</td><td>CR2</td></tr><tr><th>16</th><td>2B</td><td>410</td><td>KZN</td><td>2990</td><td>CEK</td><td>2968</td><td>NA</td><td>0</td><td>CR2</td></tr><tr><th>17</th><td>2B</td><td>410</td><td>KZN</td><td>2990</td><td>DME</td><td>4029</td><td>NA</td><td>0</td><td>CR2</td></tr><tr><th>18</th><td>2B</td><td>410</td><td>KZN</td><td>2990</td><td>EGO</td><td>6156</td><td>NA</td><td>0</td><td>CR2</td></tr><tr><th>19</th><td>2B</td><td>410</td><td>KZN</td><td>2990</td><td>LED</td><td>2948</td><td>NA</td><td>0</td><td>CR2</td></tr><tr><th>20</th><td>2B</td><td>410</td><td>KZN</td><td>2990</td><td>SVX</td><td>2975</td><td>NA</td><td>0</td><td>CR2</td></tr><tr><th>21</th><td>2B</td><td>410</td><td>LED</td><td>2948</td><td>KZN</td><td>2990</td><td>NA</td><td>0</td><td>CR2</td></tr><tr><th>22</th><td>2B</td><td>410</td><td>LED</td><td>2948</td><td>NBC</td><td>6969</td><td>NA</td><td>0</td><td>CR2</td></tr><tr><th>23</th><td>2B</td><td>410</td><td>LED</td><td>2948</td><td>UUA</td><td>6160</td><td>NA</td><td>0</td><td>CR2</td></tr><tr><th>24</th><td>2B</td><td>410</td><td>MRV</td><td>2962</td><td>ASF</td><td>2966</td><td>NA</td><td>0</td><td>CR2</td></tr><tr><th>25</th><td>2B</td><td>410</td><td>NBC</td><td>6969</td><td>DME</td><td>4029</td><td>NA</td><td>0</td><td>CR2</td></tr><tr><th>26</th><td>2B</td><td>410</td><td>NBC</td><td>6969</td><td>GYD</td><td>2922</td><td>NA</td><td>0</td><td>CR2</td></tr><tr><th>27</th><td>2B</td><td>410</td><td>NBC</td><td>6969</td><td>LED</td><td>2948</td><td>NA</td><td>0</td><td>CR2</td></tr><tr><th>28</th><td>2B</td><td>410</td><td>NBC</td><td>6969</td><td>SVX</td><td>2975</td><td>NA</td><td>0</td><td>CR2</td></tr><tr><th>29</th><td>2B</td><td>410</td><td>NJC</td><td>2972</td><td>SVX</td><td>2975</td><td>NA</td><td>0</td><td>CR2</td></tr><tr><th>30</th><td>2B</td><td>410</td><td>NJC</td><td>2972</td><td>UUA</td><td>6160</td><td>NA</td><td>0</td><td>CR2</td></tr><tr><th>&vellip;</th><td>&vellip;</td><td>&vellip;</td><td>&vellip;</td><td>&vellip;</td><td>&vellip;</td><td>&vellip;</td><td>&vellip;</td><td>&vellip;</td><td>&vellip;</td></tr></table>"
       ],
       "metadata": {},
       "output_type": "pyout",
       "prompt_number": 4,
       "text": [
        "67663x9 DataFrame\n",
        "| Row   | Airline | Airline_ID | Source_airport | Source_airport_id |\n",
        "|-------|---------|------------|----------------|-------------------|\n",
        "| 1     | \"2B\"    | \"410\"      | \"AER\"          | \"2965\"            |\n",
        "| 2     | \"2B\"    | \"410\"      | \"ASF\"          | \"2966\"            |\n",
        "| 3     | \"2B\"    | \"410\"      | \"ASF\"          | \"2966\"            |\n",
        "| 4     | \"2B\"    | \"410\"      | \"CEK\"          | \"2968\"            |\n",
        "| 5     | \"2B\"    | \"410\"      | \"CEK\"          | \"2968\"            |\n",
        "| 6     | \"2B\"    | \"410\"      | \"DME\"          | \"4029\"            |\n",
        "| 7     | \"2B\"    | \"410\"      | \"DME\"          | \"4029\"            |\n",
        "| 8     | \"2B\"    | \"410\"      | \"DME\"          | \"4029\"            |\n",
        "| 9     | \"2B\"    | \"410\"      | \"DME\"          | \"4029\"            |\n",
        "| 10    | \"2B\"    | \"410\"      | \"EGO\"          | \"6156\"            |\n",
        "| 11    | \"2B\"    | \"410\"      | \"EGO\"          | \"6156\"            |\n",
        "\u22ee\n",
        "| 67652 | \"ZL\"    | \"4178\"     | \"TRO\"          | \"6794\"            |\n",
        "| 67653 | \"ZL\"    | \"4178\"     | \"TSV\"          | \"3330\"            |\n",
        "| 67654 | \"ZL\"    | \"4178\"     | \"TSV\"          | \"3330\"            |\n",
        "| 67655 | \"ZL\"    | \"4178\"     | \"WGA\"          | \"3363\"            |\n",
        "| 67656 | \"ZL\"    | \"4178\"     | \"WGA\"          | \"3363\"            |\n",
        "| 67657 | \"ZL\"    | \"4178\"     | \"WIN\"          | \"6337\"            |\n",
        "| 67658 | \"ZL\"    | \"4178\"     | \"WIN\"          | \"6337\"            |\n",
        "| 67659 | \"ZL\"    | \"4178\"     | \"WYA\"          | \"6334\"            |\n",
        "| 67660 | \"ZM\"    | \"19016\"    | \"DME\"          | \"4029\"            |\n",
        "| 67661 | \"ZM\"    | \"19016\"    | \"FRU\"          | \"2912\"            |\n",
        "| 67662 | \"ZM\"    | \"19016\"    | \"FRU\"          | \"2912\"            |\n",
        "| 67663 | \"ZM\"    | \"19016\"    | \"OSS\"          | \"2913\"            |\n",
        "\n",
        "| Row   | Destination_airport | Destination_airport_ID | Codeshare | Stops |\n",
        "|-------|---------------------|------------------------|-----------|-------|\n",
        "| 1     | \"KZN\"               | \"2990\"                 | NA        | 0     |\n",
        "| 2     | \"KZN\"               | \"2990\"                 | NA        | 0     |\n",
        "| 3     | \"MRV\"               | \"2962\"                 | NA        | 0     |\n",
        "| 4     | \"KZN\"               | \"2990\"                 | NA        | 0     |\n",
        "| 5     | \"OVB\"               | \"4078\"                 | NA        | 0     |\n",
        "| 6     | \"KZN\"               | \"2990\"                 | NA        | 0     |\n",
        "| 7     | \"NBC\"               | \"6969\"                 | NA        | 0     |\n",
        "| 8     | \"TGK\"               | \"\\\\N\"                   | NA        | 0     |\n",
        "| 9     | \"UUA\"               | \"6160\"                 | NA        | 0     |\n",
        "| 10    | \"KGD\"               | \"2952\"                 | NA        | 0     |\n",
        "| 11    | \"KZN\"               | \"2990\"                 | NA        | 0     |\n",
        "\u22ee\n",
        "| 67652 | \"SYD\"               | \"3361\"                 | NA        | 0     |\n",
        "| 67653 | \"ISA\"               | \"3324\"                 | NA        | 0     |\n",
        "| 67654 | \"WIN\"               | \"6337\"                 | NA        | 0     |\n",
        "| 67655 | \"MEL\"               | \"3339\"                 | NA        | 0     |\n",
        "| 67656 | \"SYD\"               | \"3361\"                 | NA        | 0     |\n",
        "| 67657 | \"LRE\"               | \"6289\"                 | NA        | 0     |\n",
        "| 67658 | \"TSV\"               | \"3330\"                 | NA        | 0     |\n",
        "| 67659 | \"ADL\"               | \"3341\"                 | NA        | 0     |\n",
        "| 67660 | \"FRU\"               | \"2912\"                 | NA        | 0     |\n",
        "| 67661 | \"DME\"               | \"4029\"                 | NA        | 0     |\n",
        "| 67662 | \"OSS\"               | \"2913\"                 | NA        | 0     |\n",
        "| 67663 | \"FRU\"               | \"2912\"                 | NA        | 0     |\n",
        "\n",
        "| Row   | Equipment |\n",
        "|-------|-----------|\n",
        "| 1     | \"CR2\"     |\n",
        "| 2     | \"CR2\"     |\n",
        "| 3     | \"CR2\"     |\n",
        "| 4     | \"CR2\"     |\n",
        "| 5     | \"CR2\"     |\n",
        "| 6     | \"CR2\"     |\n",
        "| 7     | \"CR2\"     |\n",
        "| 8     | \"CR2\"     |\n",
        "| 9     | \"CR2\"     |\n",
        "| 10    | \"CR2\"     |\n",
        "| 11    | \"CR2\"     |\n",
        "\u22ee\n",
        "| 67652 | \"SF3\"     |\n",
        "| 67653 | \"SF3\"     |\n",
        "| 67654 | \"SF3\"     |\n",
        "| 67655 | \"SF3\"     |\n",
        "| 67656 | \"SF3\"     |\n",
        "| 67657 | \"SF3\"     |\n",
        "| 67658 | \"SF3\"     |\n",
        "| 67659 | \"SF3\"     |\n",
        "| 67660 | \"734\"     |\n",
        "| 67661 | \"734\"     |\n",
        "| 67662 | \"734\"     |\n",
        "| 67663 | \"734\"     |"
       ]
      }
     ],
     "prompt_number": 4
    },
    {
     "cell_type": "code",
     "collapsed": false,
     "input": [
      "describe(Geolocation_Data)"
     ],
     "language": "python",
     "metadata": {},
     "outputs": [
      {
       "output_type": "stream",
       "stream": "stdout",
       "text": [
        "iata1"
       ]
      },
      {
       "output_type": "stream",
       "stream": "stdout",
       "text": [
        "\n",
        "Length  7235\n",
        "Type    UTF8String\n",
        "NAs     0\n",
        "NA%     0.0%\n",
        "Unique  7235\n",
        "\n",
        "lat1\n",
        "Min      -54.9498472\n",
        "1st Qu.  0.7083174000000001\n",
        "Median   30.20460274\n",
        "Mean     22.906734863483067\n",
        "3rd Qu.  44.26945185\n",
        "Max      82.51644384\n",
        "NAs      0\n",
        "NA%      0.0%\n",
        "\n",
        "long1\n",
        "Min      -179.3329068\n",
        "1st Qu.  -82.3814553\n",
        "Median   2.73884643\n",
        "Mean     -1.6353591751776078\n",
        "3rd Qu.  78.12713902\n",
        "Max      179.9329068\n",
        "NAs      0\n",
        "NA%      0.0%\n",
        "\n"
       ]
      }
     ],
     "prompt_number": 15
    },
    {
     "cell_type": "heading",
     "level": 3,
     "metadata": {},
     "source": [
      "Let's keep only direct flights"
     ]
    },
    {
     "cell_type": "code",
     "collapsed": false,
     "input": [
      "# Count the number of flights we are removing\n",
      "count(i->i!=0,Raw_Data[:,:Stops])"
     ],
     "language": "python",
     "metadata": {},
     "outputs": [
      {
       "metadata": {},
       "output_type": "pyout",
       "prompt_number": 16,
       "text": [
        "11"
       ]
      }
     ],
     "prompt_number": 16
    },
    {
     "cell_type": "markdown",
     "metadata": {},
     "source": [
      "Note how Julia works like Matlab in terms of vectorized operations.\n",
      "A == 0 return either true of false\n",
      "A. == 0 returns and vector of the element-wise comparison"
     ]
    },
    {
     "cell_type": "code",
     "collapsed": false,
     "input": [
      "# Now let's remove those records:\n",
      "row_ind = Raw_Data[:,:Stops].==0\n",
      "Raw_Data = Raw_Data[row_ind,:]\n",
      "summary(Raw_Data)"
     ],
     "language": "python",
     "metadata": {},
     "outputs": [
      {
       "metadata": {},
       "output_type": "pyout",
       "prompt_number": 17,
       "text": [
        "\"67652x9 DataFrame\""
       ]
      }
     ],
     "prompt_number": 17
    },
    {
     "cell_type": "heading",
     "level": 3,
     "metadata": {},
     "source": [
      "Now, let's add the geolocation of each airport through a JOIN"
     ]
    },
    {
     "cell_type": "code",
     "collapsed": false,
     "input": [
      "# 'Origin_Airport'\n",
      "\n",
      "## We need to change the name of the geo-location df's columns in order to do a join\n",
      "\n",
      "Source_Aiport = Geolocation_Data\n",
      "names!(Source_Aiport, map(symbol,[\"Source_airport\",\"lat1\",\"long1\"]))\n",
      "\n",
      "left = join(Raw_Data, Source_Aiport, on = :Source_airport, kind = :inner);"
     ],
     "language": "python",
     "metadata": {},
     "outputs": [],
     "prompt_number": 5
    },
    {
     "cell_type": "code",
     "collapsed": false,
     "input": [
      "# Destionation_Airport\n",
      "\n",
      "## We need to change the name of the geo-location df's columns in order to do a join\n",
      "\n",
      "Destination_Aiport = Geolocation_Data\n",
      "names!(Destination_Aiport, map(symbol,[\"Destination_airport\",\"lat2\",\"long2\"]))\n",
      "\n",
      "full = join(left, Destination_Aiport, on = :Destination_airport, kind = :inner)"
     ],
     "language": "python",
     "metadata": {},
     "outputs": [
      {
       "html": [
        "<table class=\"data-frame\"><tr><th></th><th>Airline</th><th>Airline_ID</th><th>Source_airport</th><th>Source_airport_id</th><th>Destination_airport</th><th>Destination_airport_ID</th><th>Codeshare</th><th>Stops</th><th>Equipment</th><th>lat1</th><th>long1</th><th>lat2</th><th>long2</th></tr><tr><th>1</th><td>AH</td><td>794</td><td>ALG</td><td>210</td><td>AAE</td><td>220</td><td>NA</td><td>0</td><td>ATR 736 738</td><td>36.69322001</td><td>3.21720778</td><td>36.82156224</td><td>7.80996943</td></tr><tr><th>2</th><td>AH</td><td>794</td><td>CDG</td><td>1382</td><td>AAE</td><td>220</td><td>NA</td><td>0</td><td>738</td><td>49.00960656</td><td>2.5485676</td><td>36.82156224</td><td>7.80996943</td></tr><tr><th>3</th><td>AH</td><td>794</td><td>IST</td><td>1701</td><td>AAE</td><td>220</td><td>NA</td><td>0</td><td>738</td><td>40.97652787</td><td>28.81518334</td><td>36.82156224</td><td>7.80996943</td></tr><tr><th>4</th><td>AH</td><td>794</td><td>LYS</td><td>1335</td><td>AAE</td><td>220</td><td>NA</td><td>0</td><td>738</td><td>45.72542016</td><td>5.08160808</td><td>36.82156224</td><td>7.80996943</td></tr><tr><th>5</th><td>AH</td><td>794</td><td>MRS</td><td>1353</td><td>AAE</td><td>220</td><td>NA</td><td>0</td><td>738</td><td>43.43542779</td><td>5.21636745</td><td>36.82156224</td><td>7.80996943</td></tr><tr><th>6</th><td>ZI</td><td>21</td><td>MRS</td><td>1353</td><td>AAE</td><td>220</td><td>NA</td><td>0</td><td>319</td><td>43.43542779</td><td>5.21636745</td><td>36.82156224</td><td>7.80996943</td></tr><tr><th>7</th><td>AH</td><td>794</td><td>ORN</td><td>231</td><td>AAE</td><td>220</td><td>NA</td><td>0</td><td>ATR</td><td>35.62769287</td><td>-0.61054239</td><td>36.82156224</td><td>7.80996943</td></tr><tr><th>8</th><td>AH</td><td>794</td><td>ORY</td><td>1386</td><td>AAE</td><td>220</td><td>NA</td><td>0</td><td>736</td><td>48.7287433</td><td>2.35720015</td><td>36.82156224</td><td>7.80996943</td></tr><tr><th>9</th><td>ZI</td><td>21</td><td>ORY</td><td>1386</td><td>AAE</td><td>220</td><td>NA</td><td>0</td><td>319</td><td>48.7287433</td><td>2.35720015</td><td>36.82156224</td><td>7.80996943</td></tr><tr><th>10</th><td>BA</td><td>1355</td><td>AAR</td><td>607</td><td>AAL</td><td>628</td><td>Y</td><td>0</td><td>FRJ</td><td>56.2998472</td><td>10.61883115</td><td>57.09287622</td><td>9.8499236</td></tr><tr><th>11</th><td>DY</td><td>3737</td><td>AGP</td><td>1230</td><td>AAL</td><td>628</td><td>NA</td><td>0</td><td>73H</td><td>36.67156225</td><td>-4.49799463</td><td>57.09287622</td><td>9.8499236</td></tr><tr><th>12</th><td>DY</td><td>3737</td><td>ALC</td><td>1212</td><td>AAL</td><td>628</td><td>NA</td><td>0</td><td>73H</td><td>38.28323147</td><td>-0.56665393</td><td>57.09287622</td><td>9.8499236</td></tr><tr><th>13</th><td>AZ</td><td>596</td><td>AMS</td><td>580</td><td>AAL</td><td>628</td><td>Y</td><td>0</td><td>E90</td><td>52.30817416</td><td>4.76802901</td><td>57.09287622</td><td>9.8499236</td></tr><tr><th>14</th><td>KL</td><td>3090</td><td>AMS</td><td>580</td><td>AAL</td><td>628</td><td>Y</td><td>0</td><td>F70 EMJ</td><td>52.30817416</td><td>4.76802901</td><td>57.09287622</td><td>9.8499236</td></tr><tr><th>15</th><td>SK</td><td>4319</td><td>ARN</td><td>737</td><td>AAL</td><td>628</td><td>NA</td><td>0</td><td>S20</td><td>59.66178379</td><td>17.93382352</td><td>57.09287622</td><td>9.8499236</td></tr><tr><th>16</th><td>IB</td><td>2822</td><td>BCN</td><td>1218</td><td>AAL</td><td>628</td><td>Y</td><td>0</td><td>320</td><td>41.29681053</td><td>2.07828495</td><td>57.09287622</td><td>9.8499236</td></tr><tr><th>17</th><td>VY</td><td>2439</td><td>BCN</td><td>1218</td><td>AAL</td><td>628</td><td>NA</td><td>0</td><td>320</td><td>41.29681053</td><td>2.07828495</td><td>57.09287622</td><td>9.8499236</td></tr><tr><th>18</th><td>DX</td><td>1954</td><td>BLL</td><td>608</td><td>AAL</td><td>628</td><td>NA</td><td>0</td><td>SF3</td><td>55.73817799</td><td>9.1499427</td><td>57.09287622</td><td>9.8499236</td></tr><tr><th>19</th><td>TK</td><td>4951</td><td>BLL</td><td>608</td><td>AAL</td><td>628</td><td>NA</td><td>0</td><td>319 738</td><td>55.73817799</td><td>9.1499427</td><td>57.09287622</td><td>9.8499236</td></tr><tr><th>20</th><td>DY</td><td>3737</td><td>CPH</td><td>609</td><td>AAL</td><td>628</td><td>NA</td><td>0</td><td>73H AT7</td><td>55.60788769</td><td>12.63328876</td><td>57.09287622</td><td>9.8499236</td></tr><tr><th>21</th><td>SK</td><td>4319</td><td>CPH</td><td>609</td><td>AAL</td><td>628</td><td>NA</td><td>0</td><td>320 CR2 319 CR9 321</td><td>55.60788769</td><td>12.63328876</td><td>57.09287622</td><td>9.8499236</td></tr><tr><th>22</th><td>SK</td><td>4319</td><td>IST</td><td>1701</td><td>AAL</td><td>628</td><td>NA</td><td>0</td><td>319 738</td><td>40.97652787</td><td>28.81518334</td><td>57.09287622</td><td>9.8499236</td></tr><tr><th>23</th><td>TK</td><td>4951</td><td>IST</td><td>1701</td><td>AAL</td><td>628</td><td>NA</td><td>0</td><td>319 738</td><td>40.97652787</td><td>28.81518334</td><td>57.09287622</td><td>9.8499236</td></tr><tr><th>24</th><td>DY</td><td>3737</td><td>LGW</td><td>502</td><td>AAL</td><td>628</td><td>NA</td><td>0</td><td>73H</td><td>51.14788005</td><td>-0.19663864</td><td>57.09287622</td><td>9.8499236</td></tr><tr><th>25</th><td>AY</td><td>2350</td><td>OSL</td><td>644</td><td>AAL</td><td>628</td><td>NA</td><td>0</td><td>J31</td><td>60.1998472</td><td>11.08326965</td><td>57.09287622</td><td>9.8499236</td></tr><tr><th>26</th><td>BA</td><td>1355</td><td>OSL</td><td>644</td><td>AAL</td><td>628</td><td>Y</td><td>0</td><td>J31 FRJ</td><td>60.1998472</td><td>11.08326965</td><td>57.09287622</td><td>9.8499236</td></tr><tr><th>27</th><td>M3</td><td>42</td><td>OSL</td><td>644</td><td>AAL</td><td>628</td><td>NA</td><td>0</td><td>SWM</td><td>60.1998472</td><td>11.08326965</td><td>57.09287622</td><td>9.8499236</td></tr><tr><th>28</th><td>SK</td><td>4319</td><td>OSL</td><td>644</td><td>AAL</td><td>628</td><td>NA</td><td>0</td><td>73H 73G</td><td>60.1998472</td><td>11.08326965</td><td>57.09287622</td><td>9.8499236</td></tr><tr><th>29</th><td>DY</td><td>3737</td><td>PMI</td><td>3998</td><td>AAL</td><td>628</td><td>NA</td><td>0</td><td>73H</td><td>39.55152787</td><td>2.73884643</td><td>57.09287622</td><td>9.8499236</td></tr><tr><th>30</th><td>DX</td><td>1954</td><td>SVG</td><td>666</td><td>AAL</td><td>628</td><td>NA</td><td>0</td><td>SF3</td><td>58.87958364</td><td>5.63468295</td><td>57.09287622</td><td>9.8499236</td></tr><tr><th>&vellip;</th><td>&vellip;</td><td>&vellip;</td><td>&vellip;</td><td>&vellip;</td><td>&vellip;</td><td>&vellip;</td><td>&vellip;</td><td>&vellip;</td><td>&vellip;</td><td>&vellip;</td><td>&vellip;</td><td>&vellip;</td><td>&vellip;</td></tr></table>"
       ],
       "metadata": {},
       "output_type": "pyout",
       "prompt_number": 6,
       "text": [
        "67146x13 DataFrame\n",
        "| Row   | Airline | Airline_ID | Source_airport | Source_airport_id |\n",
        "|-------|---------|------------|----------------|-------------------|\n",
        "| 1     | \"AH\"    | \"794\"      | \"ALG\"          | \"210\"             |\n",
        "| 2     | \"AH\"    | \"794\"      | \"CDG\"          | \"1382\"            |\n",
        "| 3     | \"AH\"    | \"794\"      | \"IST\"          | \"1701\"            |\n",
        "| 4     | \"AH\"    | \"794\"      | \"LYS\"          | \"1335\"            |\n",
        "| 5     | \"AH\"    | \"794\"      | \"MRS\"          | \"1353\"            |\n",
        "| 6     | \"ZI\"    | \"21\"       | \"MRS\"          | \"1353\"            |\n",
        "| 7     | \"AH\"    | \"794\"      | \"ORN\"          | \"231\"             |\n",
        "| 8     | \"AH\"    | \"794\"      | \"ORY\"          | \"1386\"            |\n",
        "| 9     | \"ZI\"    | \"21\"       | \"ORY\"          | \"1386\"            |\n",
        "| 10    | \"BA\"    | \"1355\"     | \"AAR\"          | \"607\"             |\n",
        "| 11    | \"DY\"    | \"3737\"     | \"AGP\"          | \"1230\"            |\n",
        "\u22ee\n",
        "| 67135 | \"9C\"    | \"15999\"    | \"SHA\"          | \"3391\"            |\n",
        "| 67136 | \"GS\"    | \"690\"      | \"SYX\"          | \"4030\"            |\n",
        "| 67137 | \"CZ\"    | \"1767\"     | \"SZX\"          | \"3374\"            |\n",
        "| 67138 | \"MU\"    | \"1758\"     | \"WUH\"          | \"3376\"            |\n",
        "| 67139 | \"GS\"    | \"690\"      | \"XIY\"          | \"3379\"            |\n",
        "| 67140 | \"GS\"    | \"690\"      | \"XMN\"          | \"3383\"            |\n",
        "| 67141 | \"BG\"    | \"1359\"     | \"AUH\"          | \"2179\"            |\n",
        "| 67142 | \"4H\"    | \"8463\"     | \"DAC\"          | \"3076\"            |\n",
        "| 67143 | \"RX\"    | \"19676\"    | \"DAC\"          | \"3076\"            |\n",
        "| 67144 | \"VQ\"    | \"11948\"    | \"DAC\"          | \"3076\"            |\n",
        "| 67145 | \"BG\"    | \"1359\"     | \"DXB\"          | \"2188\"            |\n",
        "| 67146 | \"BG\"    | \"1359\"     | \"LHR\"          | \"507\"             |\n",
        "\n",
        "| Row   | Destination_airport | Destination_airport_ID | Codeshare | Stops |\n",
        "|-------|---------------------|------------------------|-----------|-------|\n",
        "| 1     | \"AAE\"               | \"220\"                  | NA        | 0     |\n",
        "| 2     | \"AAE\"               | \"220\"                  | NA        | 0     |\n",
        "| 3     | \"AAE\"               | \"220\"                  | NA        | 0     |\n",
        "| 4     | \"AAE\"               | \"220\"                  | NA        | 0     |\n",
        "| 5     | \"AAE\"               | \"220\"                  | NA        | 0     |\n",
        "| 6     | \"AAE\"               | \"220\"                  | NA        | 0     |\n",
        "| 7     | \"AAE\"               | \"220\"                  | NA        | 0     |\n",
        "| 8     | \"AAE\"               | \"220\"                  | NA        | 0     |\n",
        "| 9     | \"AAE\"               | \"220\"                  | NA        | 0     |\n",
        "| 10    | \"AAL\"               | \"628\"                  | \"Y\"       | 0     |\n",
        "| 11    | \"AAL\"               | \"628\"                  | NA        | 0     |\n",
        "\u22ee\n",
        "| 67135 | \"ZYI\"               | \"\\\\N\"                   | NA        | 0     |\n",
        "| 67136 | \"ZYI\"               | \"\\\\N\"                   | NA        | 0     |\n",
        "| 67137 | \"ZYI\"               | \"\\\\N\"                   | NA        | 0     |\n",
        "| 67138 | \"ZYI\"               | \"\\\\N\"                   | NA        | 0     |\n",
        "| 67139 | \"ZYI\"               | \"\\\\N\"                   | NA        | 0     |\n",
        "| 67140 | \"ZYI\"               | \"\\\\N\"                   | NA        | 0     |\n",
        "| 67141 | \"ZYL\"               | \"3074\"                 | NA        | 0     |\n",
        "| 67142 | \"ZYL\"               | \"3074\"                 | NA        | 0     |\n",
        "| 67143 | \"ZYL\"               | \"3074\"                 | NA        | 0     |\n",
        "| 67144 | \"ZYL\"               | \"3074\"                 | NA        | 0     |\n",
        "| 67145 | \"ZYL\"               | \"3074\"                 | NA        | 0     |\n",
        "| 67146 | \"ZYL\"               | \"3074\"                 | NA        | 0     |\n",
        "\n",
        "| Row   | Equipment     | lat1    | long1     | lat2    | long2   |\n",
        "|-------|---------------|---------|-----------|---------|---------|\n",
        "| 1     | \"ATR 736 738\" | 36.6932 | 3.21721   | 36.8216 | 7.80997 |\n",
        "| 2     | \"738\"         | 49.0096 | 2.54857   | 36.8216 | 7.80997 |\n",
        "| 3     | \"738\"         | 40.9765 | 28.8152   | 36.8216 | 7.80997 |\n",
        "| 4     | \"738\"         | 45.7254 | 5.08161   | 36.8216 | 7.80997 |\n",
        "| 5     | \"738\"         | 43.4354 | 5.21637   | 36.8216 | 7.80997 |\n",
        "| 6     | \"319\"         | 43.4354 | 5.21637   | 36.8216 | 7.80997 |\n",
        "| 7     | \"ATR\"         | 35.6277 | -0.610542 | 36.8216 | 7.80997 |\n",
        "| 8     | \"736\"         | 48.7287 | 2.3572    | 36.8216 | 7.80997 |\n",
        "| 9     | \"319\"         | 48.7287 | 2.3572    | 36.8216 | 7.80997 |\n",
        "| 10    | \"FRJ\"         | 56.2998 | 10.6188   | 57.0929 | 9.84992 |\n",
        "| 11    | \"73H\"         | 36.6716 | -4.49799  | 57.0929 | 9.84992 |\n",
        "\u22ee\n",
        "| 67135 | \"320\"         | 31.1999 | 121.333   | 27.6666 | 106.833 |\n",
        "| 67136 | \"E90\"         | 18.2999 | 109.4     | 27.6666 | 106.833 |\n",
        "| 67137 | \"320\"         | 22.5666 | 113.933   | 27.6666 | 106.833 |\n",
        "| 67138 | \"320\"         | 30.4999 | 114.316   | 27.6666 | 106.833 |\n",
        "| 67139 | \"E90\"         | 34.4333 | 108.75    | 27.6666 | 106.833 |\n",
        "| 67140 | \"E90\"         | 24.4666 | 118.116   | 27.6666 | 106.833 |\n",
        "| 67141 | \"313\"         | 24.4333 | 54.6498   | 24.9588 | 91.8742 |\n",
        "| 67142 | \"313\"         | 23.7804 | 90.3859   | 24.9588 | 91.8742 |\n",
        "| 67143 | \"DH8\"         | 23.7804 | 90.3859   | 24.9588 | 91.8742 |\n",
        "| 67144 | \"ER4\"         | 23.7804 | 90.3859   | 24.9588 | 91.8742 |\n",
        "| 67145 | \"313\"         | 25.2499 | 55.3576   | 24.9588 | 91.8742 |\n",
        "| 67146 | \"772\"         | 51.4713 | -0.45275  | 24.9588 | 91.8742 |"
       ]
      }
     ],
     "prompt_number": 6
    },
    {
     "cell_type": "heading",
     "level": 3,
     "metadata": {},
     "source": [
      "Convert degress into radian"
     ]
    },
    {
     "cell_type": "code",
     "collapsed": false,
     "input": [
      "geo_name = [\"lat1\",\"lat2\",\"long1\",\"long2\"]\n",
      "for i in geo_name\n",
      "    full[:,symbol(i)] = full[:,symbol(i)] *  degrees_to_rad\n",
      "end"
     ],
     "language": "python",
     "metadata": {},
     "outputs": [],
     "prompt_number": 7
    },
    {
     "cell_type": "code",
     "collapsed": false,
     "input": [
      "#  Check if that worked:\n",
      "head(full)"
     ],
     "language": "python",
     "metadata": {},
     "outputs": [
      {
       "html": [
        "<table class=\"data-frame\"><tr><th></th><th>Airline</th><th>Airline_ID</th><th>Source_airport</th><th>Source_airport_id</th><th>Destination_airport</th><th>Destination_airport_ID</th><th>Codeshare</th><th>Stops</th><th>Equipment</th><th>lat1</th><th>long1</th><th>lat2</th><th>long2</th></tr><tr><th>1</th><td>AH</td><td>794</td><td>ALG</td><td>210</td><td>AAE</td><td>220</td><td>NA</td><td>0</td><td>ATR 736 738</td><td>0.6404175729493107</td><td>0.05615087467329744</td><td>0.6426575676791573</td><td>0.13630969606389995</td></tr><tr><th>2</th><td>AH</td><td>794</td><td>CDG</td><td>1382</td><td>AAE</td><td>220</td><td>NA</td><td>0</td><td>738</td><td>0.855379093898056</td><td>0.044480900734371116</td><td>0.6426575676791573</td><td>0.13630969606389995</td></tr><tr><th>3</th><td>AH</td><td>794</td><td>IST</td><td>1701</td><td>AAE</td><td>220</td><td>NA</td><td>0</td><td>738</td><td>0.7151754062260939</td><td>0.5029198793036701</td><td>0.6426575676791573</td><td>0.13630969606389995</td></tr><tr><th>4</th><td>AH</td><td>794</td><td>LYS</td><td>1335</td><td>AAE</td><td>220</td><td>NA</td><td>0</td><td>738</td><td>0.7980592216484159</td><td>0.088690802071508</td><td>0.6426575676791573</td><td>0.13630969606389995</td></tr><tr><th>5</th><td>AH</td><td>794</td><td>MRS</td><td>1353</td><td>AAE</td><td>220</td><td>NA</td><td>0</td><td>738</td><td>0.7580913105392748</td><td>0.09104279703526583</td><td>0.6426575676791573</td><td>0.13630969606389995</td></tr><tr><th>6</th><td>ZI</td><td>21</td><td>MRS</td><td>1353</td><td>AAE</td><td>220</td><td>NA</td><td>0</td><td>319</td><td>0.7580913105392748</td><td>0.09104279703526583</td><td>0.6426575676791573</td><td>0.13630969606389995</td></tr></table>"
       ],
       "metadata": {},
       "output_type": "pyout",
       "prompt_number": 8,
       "text": [
        "6x13 DataFrame\n",
        "| Row | Airline | Airline_ID | Source_airport | Source_airport_id |\n",
        "|-----|---------|------------|----------------|-------------------|\n",
        "| 1   | \"AH\"    | \"794\"      | \"ALG\"          | \"210\"             |\n",
        "| 2   | \"AH\"    | \"794\"      | \"CDG\"          | \"1382\"            |\n",
        "| 3   | \"AH\"    | \"794\"      | \"IST\"          | \"1701\"            |\n",
        "| 4   | \"AH\"    | \"794\"      | \"LYS\"          | \"1335\"            |\n",
        "| 5   | \"AH\"    | \"794\"      | \"MRS\"          | \"1353\"            |\n",
        "| 6   | \"ZI\"    | \"21\"       | \"MRS\"          | \"1353\"            |\n",
        "\n",
        "| Row | Destination_airport | Destination_airport_ID | Codeshare | Stops |\n",
        "|-----|---------------------|------------------------|-----------|-------|\n",
        "| 1   | \"AAE\"               | \"220\"                  | NA        | 0     |\n",
        "| 2   | \"AAE\"               | \"220\"                  | NA        | 0     |\n",
        "| 3   | \"AAE\"               | \"220\"                  | NA        | 0     |\n",
        "| 4   | \"AAE\"               | \"220\"                  | NA        | 0     |\n",
        "| 5   | \"AAE\"               | \"220\"                  | NA        | 0     |\n",
        "| 6   | \"AAE\"               | \"220\"                  | NA        | 0     |\n",
        "\n",
        "| Row | Equipment     | lat1     | long1     | lat2     | long2   |\n",
        "|-----|---------------|----------|-----------|----------|---------|\n",
        "| 1   | \"ATR 736 738\" | 0.640418 | 0.0561509 | 0.642658 | 0.13631 |\n",
        "| 2   | \"738\"         | 0.855379 | 0.0444809 | 0.642658 | 0.13631 |\n",
        "| 3   | \"738\"         | 0.715175 | 0.50292   | 0.642658 | 0.13631 |\n",
        "| 4   | \"738\"         | 0.798059 | 0.0886908 | 0.642658 | 0.13631 |\n",
        "| 5   | \"738\"         | 0.758091 | 0.0910428 | 0.642658 | 0.13631 |\n",
        "| 6   | \"319\"         | 0.758091 | 0.0910428 | 0.642658 | 0.13631 |"
       ]
      }
     ],
     "prompt_number": 8
    },
    {
     "cell_type": "code",
     "collapsed": false,
     "input": [
      "##### Calculate intermediary points and iterate over rows #### \n",
      "get_intermediary_points= function(lat1,long1,lat2,long2,f)\n",
      "\t#http://williams.best.vwh.net/avform.htm#Intermediate \n",
      "\t#Calculate intermediary point. f=0 means Point A, f = 1 means Point B '''\n",
      "\t\n",
      "\td = 2*asin(sqrt((sin((lat1-lat2)/2))^2+cos(lat1)*cos(lat2)*(sin((long1-long2)/2))^2))\n",
      "\tA=sin((1-f)*d )/sin(d)\n",
      "\tB=sin(f*d)/sin(d)\n",
      "\tx = A*cos(lat1)*cos(long1) +  B*cos(lat2)*cos(long2)\n",
      "\ty = A*cos(lat1)*sin(long1) +  B*cos(lat2)*sin(long2)\n",
      "\tz = A*sin(lat1)   +  B*sin(lat2)\n",
      "\tlat=atan2(z,sqrt(x^2+y^2))\n",
      "\tlon=atan2(y,x)\n",
      "   \n",
      "   \n",
      "    return [lon/degrees_to_rad , lat/degrees_to_rad]\n",
      "end\n",
      "\n",
      "#get_intermediary_points(lat1,long1,lat2,long2,.5)"
     ],
     "language": "python",
     "metadata": {},
     "outputs": [
      {
       "metadata": {},
       "output_type": "pyout",
       "prompt_number": 9,
       "text": [
        "(anonymous function)"
       ]
      }
     ],
     "prompt_number": 9
    },
    {
     "cell_type": "code",
     "collapsed": false,
     "input": [
      "#### This function calculates the distance in km between 2 points given their respective geolocation (in rad) ####\n",
      "gc_distance = function(lat1, lon1, lat2, lon2)\n",
      "  const R = 6371 # Earth mean radius [km]\n",
      "  d = acos(sin(lat1)*sin(lat2) + cos(lat1)*cos(lat2) * cos(lon2-lon1)) * R\n",
      "  return(d) # Distance in km\n",
      "end"
     ],
     "language": "python",
     "metadata": {},
     "outputs": [
      {
       "metadata": {},
       "output_type": "pyout",
       "prompt_number": 25,
       "text": [
        "(anonymous function)"
       ]
      }
     ],
     "prompt_number": 25
    },
    {
     "cell_type": "heading",
     "level": 3,
     "metadata": {},
     "source": [
      "Let's test see the results:"
     ]
    },
    {
     "cell_type": "code",
     "collapsed": false,
     "input": [
      "lat1 =.592539\n",
      "long1=2.066470\n",
      "lat2 =0.709186\n",
      "long2=1.287762\n",
      "a1 = [(i,get_intermediary_points(lat1,long1,lat2,long2,i)) for i in 0:.1:1]"
     ],
     "language": "python",
     "metadata": {},
     "outputs": [
      {
       "metadata": {},
       "output_type": "pyout",
       "prompt_number": 10,
       "text": [
        "11-element Array{(Float64,Any),1}:\n",
        " (0.0,[118.4,33.95])    \n",
        " (0.1,[114.401,35.345]) \n",
        " (0.2,[110.269,36.6039])\n",
        " (0.3,[106.008,37.7155])\n",
        " (0.4,[101.626,38.6694])\n",
        " (0.5,[97.1369,39.4558])\n",
        " (0.6,[92.5568,40.0659])\n",
        " (0.7,[87.9065,40.4927])\n",
        " (0.8,[83.2099,40.7311])\n",
        " (0.9,[78.4931,40.7782])\n",
        " (1.0,[73.7833,40.6334])"
       ]
      }
     ],
     "prompt_number": 10
    },
    {
     "cell_type": "code",
     "collapsed": false,
     "input": [
      "## This function takes a dataframe \n",
      "intermediary_points = function(Data::DataFrame)\n",
      "    _nrow2 = nrow(Data)\n",
      "    collectors = Array(DataFrame,_nrow2)\n",
      "    #const inter_points_cnt = 11\n",
      "    const interpoint_distance = 500 # kms\n",
      "    \n",
      "        \n",
      "    for i in 1:_nrow2\n",
      "        #println(i)\n",
      "        \n",
      "        \n",
      "         #cols = [:Source_airport,:Destination_aiport]\n",
      "        lat1 = Data[i,:lat1]\n",
      "        lat2 = Data[i,:lat2]\n",
      "        lon1 = Data[i,:long1]\n",
      "        lon2 = Data[i,:long2]\n",
      "        iata1= Data[i,:Source_airport]\n",
      "        iata2= Data[i,:Destination_airport]\n",
      "        airline = Data[i,:Airline]\n",
      "        \n",
      "        inter_points_cnt = int(gc_distance(lat1, lon1, lat2, lon2) /interpoint_distance)\n",
      "\n",
      "        if inter_points_cnt < 2 \n",
      "            inter_points_cnt = 2 \n",
      "        end\n",
      "        \n",
      "        equipment = DataArray(String,inter_points_cnt)         \n",
      "        lat  = DataArray(Float64,inter_points_cnt)\n",
      "        long = DataArray(Float64,inter_points_cnt)\n",
      "        \n",
      "\n",
      "        \n",
      "        # Equipment creates column types problem because it contains NAs. We deal with it by using a DataArray\n",
      "        for ii in 1:inter_points_cnt\n",
      "            equipment[ii] = Data[i,:Equipment]\n",
      "        end\n",
      "\n",
      "        \n",
      "        # Retrieve path\n",
      "        step = 1.0 / (inter_points_cnt - 1)\n",
      "        tmp  = [get_intermediary_points(lat1,lon1,lat2,lon2,j)  for j in 0:step:1]\n",
      "        \n",
      "        for j in 1:inter_points_cnt\n",
      "            long[j] = tmp[j][1]\n",
      "            lat[j]  = tmp[j][2]\n",
      "        end\n",
      "       \n",
      "       \n",
      "        # Add it all into a DataFrame\n",
      "        df = DataFrame(airline=rep(airline,inter_points_cnt),\n",
      "                    equipment=equipment,\n",
      "                    iata1=iata1,\n",
      "                    iata2=iata2,\n",
      "                    interpoint_id=1:inter_points_cnt,\n",
      "                    lon=long,\n",
      "                    lat=lat)\n",
      "                \n",
      "           # println(df)\n",
      "        \n",
      "        collectors[i] = df\n",
      "\n",
      "    end\n",
      "    return collectors\n",
      "end "
     ],
     "language": "python",
     "metadata": {},
     "outputs": [
      {
       "metadata": {},
       "output_type": "pyout",
       "prompt_number": 46,
       "text": [
        "(anonymous function)"
       ]
      }
     ],
     "prompt_number": 46
    },
    {
     "cell_type": "code",
     "collapsed": false,
     "input": [
      "### Let's run the function for each row of the dataframe\n",
      "dfs = intermediary_points(full)\n",
      "\n",
      "## dfs returns an Array of DataFrames"
     ],
     "language": "python",
     "metadata": {},
     "outputs": [
      {
       "metadata": {},
       "output_type": "pyout",
       "prompt_number": 47,
       "text": [
        "67146-element Array{DataFrame,1}:\n",
        " 2x7 DataFrame\n",
        "| Row | airline | equipment     | iata1 | iata2 | interpoint_id | lon     |\n",
        "|-----|---------|---------------|-------|-------|---------------|---------|\n",
        "| 1   | \"AH\"    | \"ATR 736 738\" | \"ALG\" | \"AAE\" | 1             | 3.21721 |\n",
        "| 2   | \"AH\"    | \"ATR 736 738\" | \"ALG\" | \"AAE\" | 2             | 7.80997 |\n",
        "\n",
        "| Row | lat     |\n",
        "|-----|---------|\n",
        "| 1   | 36.6932 |\n",
        "| 2   | 36.8216 |                                                                                                                                                                                                                                                                                                                                                                                                                                                                                                                                                                                                                                                                                                                                                                                                                                                                                                                                                                                                                                                                                                                                                                                                                                                                                                               \n",
        " 3x7 DataFrame\n",
        "| Row | airline | equipment | iata1 | iata2 | interpoint_id | lon     |\n",
        "|-----|---------|-----------|-------|-------|---------------|---------|\n",
        "| 1   | \"AH\"    | \"738\"     | \"CDG\" | \"AAE\" | 1             | 2.54857 |\n",
        "| 2   | \"AH\"    | \"738\"     | \"CDG\" | \"AAE\" | 2             | 5.44059 |\n",
        "| 3   | \"AH\"    | \"738\"     | \"CDG\" | \"AAE\" | 3             | 7.80997 |\n",
        "\n",
        "| Row | lat     |\n",
        "|-----|---------|\n",
        "| 1   | 49.0096 |\n",
        "| 2   | 42.9454 |\n",
        "| 3   | 36.8216 |                                                                                                                                                                                                                                                                                                                                                                                                                                                                                                                                                                                                                                                                                                                                                                                                                                                                                                                                                                                                                                                                                                                                                                                                                                     \n",
        " 4x7 DataFrame\n",
        "| Row | airline | equipment | iata1 | iata2 | interpoint_id | lon     |\n",
        "|-----|---------|-----------|-------|-------|---------------|---------|\n",
        "| 1   | \"AH\"    | \"738\"     | \"IST\" | \"AAE\" | 1             | 28.8152 |\n",
        "| 2   | \"AH\"    | \"738\"     | \"IST\" | \"AAE\" | 2             | 21.5476 |\n",
        "| 3   | \"AH\"    | \"738\"     | \"IST\" | \"AAE\" | 3             | 14.526  |\n",
        "| 4   | \"AH\"    | \"738\"     | \"IST\" | \"AAE\" | 4             | 7.80997 |\n",
        "\n",
        "| Row | lat     |\n",
        "|-----|---------|\n",
        "| 1   | 40.9765 |\n",
        "| 2   | 40.0185 |\n",
        "| 3   | 38.621  |\n",
        "| 4   | 36.8216 |                                                                                                                                                                                                                                                                                                                                                                                                                                                                                                                                                                                                                                                                                                                                                                                                                                                                                                                                                                                                                                                                                                                                           \n",
        " 2x7 DataFrame\n",
        "| Row | airline | equipment | iata1 | iata2 | interpoint_id | lon     |\n",
        "|-----|---------|-----------|-------|-------|---------------|---------|\n",
        "| 1   | \"AH\"    | \"738\"     | \"LYS\" | \"AAE\" | 1             | 5.08161 |\n",
        "| 2   | \"AH\"    | \"738\"     | \"LYS\" | \"AAE\" | 2             | 7.80997 |\n",
        "\n",
        "| Row | lat     |\n",
        "|-----|---------|\n",
        "| 1   | 45.7254 |\n",
        "| 2   | 36.8216 |                                                                                                                                                                                                                                                                                                                                                                                                                                                                                                                                                                                                                                                                                                                                                                                                                                                                                                                                                                                                                                                                                                                                                                                                                                                                                                                               \n",
        " 2x7 DataFrame\n",
        "| Row | airline | equipment | iata1 | iata2 | interpoint_id | lon     |\n",
        "|-----|---------|-----------|-------|-------|---------------|---------|\n",
        "| 1   | \"AH\"    | \"738\"     | \"MRS\" | \"AAE\" | 1             | 5.21637 |\n",
        "| 2   | \"AH\"    | \"738\"     | \"MRS\" | \"AAE\" | 2             | 7.80997 |\n",
        "\n",
        "| Row | lat     |\n",
        "|-----|---------|\n",
        "| 1   | 43.4354 |\n",
        "| 2   | 36.8216 |                                                                                                                                                                                                                                                                                                                                                                                                                                                                                                                                                                                                                                                                                                                                                                                                                                                                                                                                                                                                                                                                                                                                                                                                                                                                                                                               \n",
        " 2x7 DataFrame\n",
        "| Row | airline | equipment | iata1 | iata2 | interpoint_id | lon     |\n",
        "|-----|---------|-----------|-------|-------|---------------|---------|\n",
        "| 1   | \"ZI\"    | \"319\"     | \"MRS\" | \"AAE\" | 1             | 5.21637 |\n",
        "| 2   | \"ZI\"    | \"319\"     | \"MRS\" | \"AAE\" | 2             | 7.80997 |\n",
        "\n",
        "| Row | lat     |\n",
        "|-----|---------|\n",
        "| 1   | 43.4354 |\n",
        "| 2   | 36.8216 |                                                                                                                                                                                                                                                                                                                                                                                                                                                                                                                                                                                                                                                                                                                                                                                                                                                                                                                                                                                                                                                                                                                                                                                                                                                                                                                               \n",
        " 2x7 DataFrame\n",
        "| Row | airline | equipment | iata1 | iata2 | interpoint_id | lon       |\n",
        "|-----|---------|-----------|-------|-------|---------------|-----------|\n",
        "| 1   | \"AH\"    | \"ATR\"     | \"ORN\" | \"AAE\" | 1             | -0.610542 |\n",
        "| 2   | \"AH\"    | \"ATR\"     | \"ORN\" | \"AAE\" | 2             | 7.80997   |\n",
        "\n",
        "| Row | lat     |\n",
        "|-----|---------|\n",
        "| 1   | 35.6277 |\n",
        "| 2   | 36.8216 |                                                                                                                                                                                                                                                                                                                                                                                                                                                                                                                                                                                                                                                                                                                                                                                                                                                                                                                                                                                                                                                                                                                                                                                                                                                                                                                       \n",
        " 3x7 DataFrame\n",
        "| Row | airline | equipment | iata1 | iata2 | interpoint_id | lon     |\n",
        "|-----|---------|-----------|-------|-------|---------------|---------|\n",
        "| 1   | \"AH\"    | \"736\"     | \"ORY\" | \"AAE\" | 1             | 2.3572  |\n",
        "| 2   | \"AH\"    | \"736\"     | \"ORY\" | \"AAE\" | 2             | 5.34684 |\n",
        "| 3   | \"AH\"    | \"736\"     | \"ORY\" | \"AAE\" | 3             | 7.80997 |\n",
        "\n",
        "| Row | lat     |\n",
        "|-----|---------|\n",
        "| 1   | 48.7287 |\n",
        "| 2   | 42.8072 |\n",
        "| 3   | 36.8216 |                                                                                                                                                                                                                                                                                                                                                                                                                                                                                                                                                                                                                                                                                                                                                                                                                                                                                                                                                                                                                                                                                                                                                                                                                                     \n",
        " 3x7 DataFrame\n",
        "| Row | airline | equipment | iata1 | iata2 | interpoint_id | lon     |\n",
        "|-----|---------|-----------|-------|-------|---------------|---------|\n",
        "| 1   | \"ZI\"    | \"319\"     | \"ORY\" | \"AAE\" | 1             | 2.3572  |\n",
        "| 2   | \"ZI\"    | \"319\"     | \"ORY\" | \"AAE\" | 2             | 5.34684 |\n",
        "| 3   | \"ZI\"    | \"319\"     | \"ORY\" | \"AAE\" | 3             | 7.80997 |\n",
        "\n",
        "| Row | lat     |\n",
        "|-----|---------|\n",
        "| 1   | 48.7287 |\n",
        "| 2   | 42.8072 |\n",
        "| 3   | 36.8216 |                                                                                                                                                                                                                                                                                                                                                                                                                                                                                                                                                                                                                                                                                                                                                                                                                                                                                                                                                                                                                                                                                                                                                                                                                                     \n",
        " 2x7 DataFrame\n",
        "| Row | airline | equipment | iata1 | iata2 | interpoint_id | lon     |\n",
        "|-----|---------|-----------|-------|-------|---------------|---------|\n",
        "| 1   | \"BA\"    | \"FRJ\"     | \"AAR\" | \"AAL\" | 1             | 10.6188 |\n",
        "| 2   | \"BA\"    | \"FRJ\"     | \"AAR\" | \"AAL\" | 2             | 9.84992 |\n",
        "\n",
        "| Row | lat     |\n",
        "|-----|---------|\n",
        "| 1   | 56.2998 |\n",
        "| 2   | 57.0929 |                                                                                                                                                                                                                                                                                                                                                                                                                                                                                                                                                                                                                                                                                                                                                                                                                                                                                                                                                                                                                                                                                                                                                                                                                                                                                                                               \n",
        " 5x7 DataFrame\n",
        "| Row | airline | equipment | iata1 | iata2 | interpoint_id | lon      |\n",
        "|-----|---------|-----------|-------|-------|---------------|----------|\n",
        "| 1   | \"DY\"    | \"73H\"     | \"AGP\" | \"AAL\" | 1             | -4.49799 |\n",
        "| 2   | \"DY\"    | \"73H\"     | \"AGP\" | \"AAL\" | 2             | -1.84146 |\n",
        "| 3   | \"DY\"    | \"73H\"     | \"AGP\" | \"AAL\" | 3             | 1.28899  |\n",
        "| 4   | \"DY\"    | \"73H\"     | \"AGP\" | \"AAL\" | 4             | 5.08786  |\n",
        "| 5   | \"DY\"    | \"73H\"     | \"AGP\" | \"AAL\" | 5             | 9.84992  |\n",
        "\n",
        "| Row | lat     |\n",
        "|-----|---------|\n",
        "| 1   | 36.6716 |\n",
        "| 2   | 41.9211 |\n",
        "| 3   | 47.0985 |\n",
        "| 4   | 52.1722 |\n",
        "| 5   | 57.0929 |                                                                                                                                                                                                                                                                                                                                                                                                                                                                                                                                                                                                                                                                                                                                                                                                                                                                                                                                                                                                                                          \n",
        " 4x7 DataFrame\n",
        "| Row | airline | equipment | iata1 | iata2 | interpoint_id | lon       |\n",
        "|-----|---------|-----------|-------|-------|---------------|-----------|\n",
        "| 1   | \"DY\"    | \"73H\"     | \"ALC\" | \"AAL\" | 1             | -0.566654 |\n",
        "| 2   | \"DY\"    | \"73H\"     | \"ALC\" | \"AAL\" | 2             | 2.11956   |\n",
        "| 3   | \"DY\"    | \"73H\"     | \"ALC\" | \"AAL\" | 3             | 5.46592   |\n",
        "| 4   | \"DY\"    | \"73H\"     | \"ALC\" | \"AAL\" | 4             | 9.84992   |\n",
        "\n",
        "| Row | lat     |\n",
        "|-----|---------|\n",
        "| 1   | 38.2832 |\n",
        "| 2   | 44.6472 |\n",
        "| 3   | 50.9328 |\n",
        "| 4   | 57.0929 |                                                                                                                                                                                                                                                                                                                                                                                                                                                                                                                                                                                                                                                                                                                                                                                                                                                                                                                                                                                                                                                                                                                               \n",
        " 2x7 DataFrame\n",
        "| Row | airline | equipment | iata1 | iata2 | interpoint_id | lon     |\n",
        "|-----|---------|-----------|-------|-------|---------------|---------|\n",
        "| 1   | \"AZ\"    | \"E90\"     | \"AMS\" | \"AAL\" | 1             | 4.76803 |\n",
        "| 2   | \"AZ\"    | \"E90\"     | \"AMS\" | \"AAL\" | 2             | 9.84992 |\n",
        "\n",
        "| Row | lat     |\n",
        "|-----|---------|\n",
        "| 1   | 52.3082 |\n",
        "| 2   | 57.0929 |                                                                                                                                                                                                                                                                                                                                                                                                                                                                                                                                                                                                                                                                                                                                                                                                                                                                                                                                                                                                                                                                                                                                                                                                                                                                                                                               \n",
        " \u22ee                                                                                                                                                                                                                                                                                                                                                                                                                                                                                                                                                                                                                                                                                                                                                                                                                                                                                                                                                                                                                                                                                                                                                                                                                                                                                                                                                                                                                                                                                                                                                                                                                                                                                                                    \n",
        " 3x7 DataFrame\n",
        "| Row | airline | equipment | iata1 | iata2 | interpoint_id | lon     |\n",
        "|-----|---------|-----------|-------|-------|---------------|---------|\n",
        "| 1   | \"9C\"    | \"320\"     | \"SHA\" | \"ZYI\" | 1             | 121.333 |\n",
        "| 2   | \"9C\"    | \"320\"     | \"SHA\" | \"ZYI\" | 2             | 113.956 |\n",
        "| 3   | \"9C\"    | \"320\"     | \"SHA\" | \"ZYI\" | 3             | 106.833 |\n",
        "\n",
        "| Row | lat     |\n",
        "|-----|---------|\n",
        "| 1   | 31.1999 |\n",
        "| 2   | 29.6304 |\n",
        "| 3   | 27.6666 |                                                                                                                                                                                                                                                                                                                                                                                                                                                                                                                                                                                                                                                                                                                                                                                                                                                                                                                                                                                                                                                                                                                                                                                                                                     \n",
        " 2x7 DataFrame\n",
        "| Row | airline | equipment | iata1 | iata2 | interpoint_id | lon     |\n",
        "|-----|---------|-----------|-------|-------|---------------|---------|\n",
        "| 1   | \"GS\"    | \"E90\"     | \"SYX\" | \"ZYI\" | 1             | 109.4   |\n",
        "| 2   | \"GS\"    | \"E90\"     | \"SYX\" | \"ZYI\" | 2             | 106.833 |\n",
        "\n",
        "| Row | lat     |\n",
        "|-----|---------|\n",
        "| 1   | 18.2999 |\n",
        "| 2   | 27.6666 |                                                                                                                                                                                                                                                                                                                                                                                                                                                                                                                                                                                                                                                                                                                                                                                                                                                                                                                                                                                                                                                                                                                                                                                                                                                                                                                               \n",
        " 2x7 DataFrame\n",
        "| Row | airline | equipment | iata1 | iata2 | interpoint_id | lon     |\n",
        "|-----|---------|-----------|-------|-------|---------------|---------|\n",
        "| 1   | \"CZ\"    | \"320\"     | \"SZX\" | \"ZYI\" | 1             | 113.933 |\n",
        "| 2   | \"CZ\"    | \"320\"     | \"SZX\" | \"ZYI\" | 2             | 106.833 |\n",
        "\n",
        "| Row | lat     |\n",
        "|-----|---------|\n",
        "| 1   | 22.5666 |\n",
        "| 2   | 27.6666 |                                                                                                                                                                                                                                                                                                                                                                                                                                                                                                                                                                                                                                                                                                                                                                                                                                                                                                                                                                                                                                                                                                                                                                                                                                                                                                                               \n",
        " 2x7 DataFrame\n",
        "| Row | airline | equipment | iata1 | iata2 | interpoint_id | lon     |\n",
        "|-----|---------|-----------|-------|-------|---------------|---------|\n",
        "| 1   | \"MU\"    | \"320\"     | \"WUH\" | \"ZYI\" | 1             | 114.316 |\n",
        "| 2   | \"MU\"    | \"320\"     | \"WUH\" | \"ZYI\" | 2             | 106.833 |\n",
        "\n",
        "| Row | lat     |\n",
        "|-----|---------|\n",
        "| 1   | 30.4999 |\n",
        "| 2   | 27.6666 |                                                                                                                                                                                                                                                                                                                                                                                                                                                                                                                                                                                                                                                                                                                                                                                                                                                                                                                                                                                                                                                                                                                                                                                                                                                                                                                               \n",
        " 2x7 DataFrame\n",
        "| Row | airline | equipment | iata1 | iata2 | interpoint_id | lon     |\n",
        "|-----|---------|-----------|-------|-------|---------------|---------|\n",
        "| 1   | \"GS\"    | \"E90\"     | \"XIY\" | \"ZYI\" | 1             | 108.75  |\n",
        "| 2   | \"GS\"    | \"E90\"     | \"XIY\" | \"ZYI\" | 2             | 106.833 |\n",
        "\n",
        "| Row | lat     |\n",
        "|-----|---------|\n",
        "| 1   | 34.4333 |\n",
        "| 2   | 27.6666 |                                                                                                                                                                                                                                                                                                                                                                                                                                                                                                                                                                                                                                                                                                                                                                                                                                                                                                                                                                                                                                                                                                                                                                                                                                                                                                                               \n",
        " 2x7 DataFrame\n",
        "| Row | airline | equipment | iata1 | iata2 | interpoint_id | lon     |\n",
        "|-----|---------|-----------|-------|-------|---------------|---------|\n",
        "| 1   | \"GS\"    | \"E90\"     | \"XMN\" | \"ZYI\" | 1             | 118.116 |\n",
        "| 2   | \"GS\"    | \"E90\"     | \"XMN\" | \"ZYI\" | 2             | 106.833 |\n",
        "\n",
        "| Row | lat     |\n",
        "|-----|---------|\n",
        "| 1   | 24.4666 |\n",
        "| 2   | 27.6666 |                                                                                                                                                                                                                                                                                                                                                                                                                                                                                                                                                                                                                                                                                                                                                                                                                                                                                                                                                                                                                                                                                                                                                                                                                                                                                                                               \n",
        " 7x7 DataFrame\n",
        "| Row | airline | equipment | iata1 | iata2 | interpoint_id | lon     |\n",
        "|-----|---------|-----------|-------|-------|---------------|---------|\n",
        "| 1   | \"BG\"    | \"313\"     | \"AUH\" | \"ZYL\" | 1             | 54.6498 |\n",
        "| 2   | \"BG\"    | \"313\"     | \"AUH\" | \"ZYL\" | 2             | 60.7867 |\n",
        "| 3   | \"BG\"    | \"313\"     | \"AUH\" | \"ZYL\" | 3             | 66.9855 |\n",
        "| 4   | \"BG\"    | \"313\"     | \"AUH\" | \"ZYL\" | 4             | 73.2213 |\n",
        "| 5   | \"BG\"    | \"313\"     | \"AUH\" | \"ZYL\" | 5             | 79.4665 |\n",
        "| 6   | \"BG\"    | \"313\"     | \"AUH\" | \"ZYL\" | 6             | 85.6931 |\n",
        "| 7   | \"BG\"    | \"313\"     | \"AUH\" | \"ZYL\" | 7             | 91.8742 |\n",
        "\n",
        "| Row | lat     |\n",
        "|-----|---------|\n",
        "| 1   | 24.4333 |\n",
        "| 2   | 25.1753 |\n",
        "| 3   | 25.6616 |\n",
        "| 4   | 25.8846 |\n",
        "| 5   | 25.8406 |\n",
        "| 6   | 25.5303 |\n",
        "| 7   | 24.9588 |                                                                                                                                                                                                                                                                                                                                                                                                                                                                                                                                                                                                                                                                                                                                                                                                                                                             \n",
        " 2x7 DataFrame\n",
        "| Row | airline | equipment | iata1 | iata2 | interpoint_id | lon     |\n",
        "|-----|---------|-----------|-------|-------|---------------|---------|\n",
        "| 1   | \"4H\"    | \"313\"     | \"DAC\" | \"ZYL\" | 1             | 90.3859 |\n",
        "| 2   | \"4H\"    | \"313\"     | \"DAC\" | \"ZYL\" | 2             | 91.8742 |\n",
        "\n",
        "| Row | lat     |\n",
        "|-----|---------|\n",
        "| 1   | 23.7804 |\n",
        "| 2   | 24.9588 |                                                                                                                                                                                                                                                                                                                                                                                                                                                                                                                                                                                                                                                                                                                                                                                                                                                                                                                                                                                                                                                                                                                                                                                                                                                                                                                               \n",
        " 2x7 DataFrame\n",
        "| Row | airline | equipment | iata1 | iata2 | interpoint_id | lon     |\n",
        "|-----|---------|-----------|-------|-------|---------------|---------|\n",
        "| 1   | \"RX\"    | \"DH8\"     | \"DAC\" | \"ZYL\" | 1             | 90.3859 |\n",
        "| 2   | \"RX\"    | \"DH8\"     | \"DAC\" | \"ZYL\" | 2             | 91.8742 |\n",
        "\n",
        "| Row | lat     |\n",
        "|-----|---------|\n",
        "| 1   | 23.7804 |\n",
        "| 2   | 24.9588 |                                                                                                                                                                                                                                                                                                                                                                                                                                                                                                                                                                                                                                                                                                                                                                                                                                                                                                                                                                                                                                                                                                                                                                                                                                                                                                                               \n",
        " 2x7 DataFrame\n",
        "| Row | airline | equipment | iata1 | iata2 | interpoint_id | lon     |\n",
        "|-----|---------|-----------|-------|-------|---------------|---------|\n",
        "| 1   | \"VQ\"    | \"ER4\"     | \"DAC\" | \"ZYL\" | 1             | 90.3859 |\n",
        "| 2   | \"VQ\"    | \"ER4\"     | \"DAC\" | \"ZYL\" | 2             | 91.8742 |\n",
        "\n",
        "| Row | lat     |\n",
        "|-----|---------|\n",
        "| 1   | 23.7804 |\n",
        "| 2   | 24.9588 |                                                                                                                                                                                                                                                                                                                                                                                                                                                                                                                                                                                                                                                                                                                                                                                                                                                                                                                                                                                                                                                                                                                                                                                                                                                                                                                               \n",
        " 7x7 DataFrame\n",
        "| Row | airline | equipment | iata1 | iata2 | interpoint_id | lon     |\n",
        "|-----|---------|-----------|-------|-------|---------------|---------|\n",
        "| 1   | \"BG\"    | \"313\"     | \"DXB\" | \"ZYL\" | 1             | 55.3576 |\n",
        "| 2   | \"BG\"    | \"313\"     | \"DXB\" | \"ZYL\" | 2             | 61.4121 |\n",
        "| 3   | \"BG\"    | \"313\"     | \"DXB\" | \"ZYL\" | 3             | 67.5143 |\n",
        "| 4   | \"BG\"    | \"313\"     | \"DXB\" | \"ZYL\" | 4             | 73.6384 |\n",
        "| 5   | \"BG\"    | \"313\"     | \"DXB\" | \"ZYL\" | 5             | 79.7573 |\n",
        "| 6   | \"BG\"    | \"313\"     | \"DXB\" | \"ZYL\" | 6             | 85.8442 |\n",
        "| 7   | \"BG\"    | \"313\"     | \"DXB\" | \"ZYL\" | 7             | 91.8742 |\n",
        "\n",
        "| Row | lat     |\n",
        "|-----|---------|\n",
        "| 1   | 25.2499 |\n",
        "| 2   | 25.8414 |\n",
        "| 3   | 26.1799 |\n",
        "| 4   | 26.2602 |\n",
        "| 5   | 26.0808 |\n",
        "| 6   | 25.6448 |\n",
        "| 7   | 24.9588 |                                                                                                                                                                                                                                                                                                                                                                                                                                                                                                                                                                                                                                                                                                                                                                                                                                                             \n",
        " 16x7 DataFrame\n",
        "| Row | airline | equipment | iata1 | iata2 | interpoint_id | lon      |\n",
        "|-----|---------|-----------|-------|-------|---------------|----------|\n",
        "| 1   | \"BG\"    | \"772\"     | \"LHR\" | \"ZYL\" | 1             | -0.45275 |\n",
        "| 2   | \"BG\"    | \"772\"     | \"LHR\" | \"ZYL\" | 2             | 7.11293  |\n",
        "| 3   | \"BG\"    | \"772\"     | \"LHR\" | \"ZYL\" | 3             | 15.026   |\n",
        "| 4   | \"BG\"    | \"772\"     | \"LHR\" | \"ZYL\" | 4             | 23.1121  |\n",
        "| 5   | \"BG\"    | \"772\"     | \"LHR\" | \"ZYL\" | 5             | 31.1676  |\n",
        "| 6   | \"BG\"    | \"772\"     | \"LHR\" | \"ZYL\" | 6             | 38.9944  |\n",
        "| 7   | \"BG\"    | \"772\"     | \"LHR\" | \"ZYL\" | 7             | 46.4316  |\n",
        "| 8   | \"BG\"    | \"772\"     | \"LHR\" | \"ZYL\" | 8             | 53.3748  |\n",
        "| 9   | \"BG\"    | \"772\"     | \"LHR\" | \"ZYL\" | 9             | 59.7764  |\n",
        "| 10  | \"BG\"    | \"772\"     | \"LHR\" | \"ZYL\" | 10            | 65.6358  |\n",
        "| 11  | \"BG\"    | \"772\"     | \"LHR\" | \"ZYL\" | 11            | 70.9836  |\n",
        "| 12  | \"BG\"    | \"772\"     | \"LHR\" | \"ZYL\" | 12            | 75.8681  |\n",
        "| 13  | \"BG\"    | \"772\"     | \"LHR\" | \"ZYL\" | 13            | 80.3447  |\n",
        "| 14  | \"BG\"    | \"772\"     | \"LHR\" | \"ZYL\" | 14            | 84.4698  |\n",
        "| 15  | \"BG\"    | \"772\"     | \"LHR\" | \"ZYL\" | 15            | 88.2966  |\n",
        "| 16  | \"BG\"    | \"772\"     | \"LHR\" | \"ZYL\" | 16            | 91.8742  |\n",
        "\n",
        "| Row | lat     |\n",
        "|-----|---------|\n",
        "| 1   | 51.4713 |\n",
        "| 2   | 52.7065 |\n",
        "| 3   | 53.4359 |\n",
        "| 4   | 53.6285 |\n",
        "| 5   | 53.2756 |\n",
        "| 6   | 52.3929 |\n",
        "| 7   | 51.017  |\n",
        "| 8   | 49.1989 |\n",
        "| 9   | 46.996  |\n",
        "| 10  | 44.4659 |\n",
        "| 11  | 41.6619 |\n",
        "| 12  | 38.6313 |\n",
        "| 13  | 35.4145 |\n",
        "| 14  | 32.0453 |\n",
        "| 15  | 28.5522 |\n",
        "| 16  | 24.9588 |"
       ]
      }
     ],
     "prompt_number": 47
    },
    {
     "cell_type": "code",
     "collapsed": false,
     "input": [
      "all_dfs = vcat(dfs)\n",
      "describe(all_dfs)"
     ],
     "language": "python",
     "metadata": {},
     "outputs": [
      {
       "output_type": "stream",
       "stream": "stdout",
       "text": [
        "airline"
       ]
      },
      {
       "output_type": "stream",
       "stream": "stdout",
       "text": [
        "\n",
        "Length  273230\n",
        "Type    UTF8String\n",
        "NAs     0\n",
        "NA%     0.0%\n",
        "Unique  563\n",
        "\n",
        "equipment\n",
        "Length  273230\n",
        "Type    String\n",
        "NAs     49\n",
        "NA%     0.02%\n"
       ]
      },
      {
       "output_type": "stream",
       "stream": "stdout",
       "text": [
        "Unique  3920\n",
        "\n",
        "iata1\n",
        "Length  273230\n",
        "Type    UTF8String\n",
        "NAs     0\n",
        "NA%     0.0%\n",
        "Unique  3302\n",
        "\n",
        "iata2\n",
        "Length  273230\n",
        "Type    UTF8String\n",
        "NAs     0\n",
        "NA%     0.0%\n",
        "Unique  3310\n",
        "\n",
        "interpoint_id\n"
       ]
      },
      {
       "output_type": "stream",
       "stream": "stdout",
       "text": [
        "Min      1.0\n",
        "1st Qu.  2.0\n",
        "Median   3.0\n",
        "Mean     4.323935878197855\n",
        "3rd Qu.  6.0\n",
        "Max      30.0\n",
        "NAs      0\n",
        "NA%      0.0%\n",
        "\n",
        "lon\n"
       ]
      },
      {
       "ename": "LoadError",
       "evalue": "quantiles are undefined in presence of NaNs\nwhile loading In[48], in expression starting on line 2",
       "output_type": "pyerr",
       "traceback": [
        "quantiles are undefined in presence of NaNs\nwhile loading In[48], in expression starting on line 2",
        "",
        " in quantile! at statistics.jl:498",
        " in Array at base.jl:226"
       ]
      }
     ],
     "prompt_number": 48
    },
    {
     "cell_type": "heading",
     "level": 5,
     "metadata": {},
     "source": [
      "Check the results"
     ]
    },
    {
     "cell_type": "code",
     "collapsed": false,
     "input": [
      "head(all_dfs)"
     ],
     "language": "python",
     "metadata": {},
     "outputs": [
      {
       "html": [
        "<table class=\"data-frame\"><tr><th></th><th>airline</th><th>equipment</th><th>iata1</th><th>iata2</th><th>interpoint_id</th><th>lon</th><th>lat</th></tr><tr><th>1</th><td>AH</td><td>ATR 736 738</td><td>ALG</td><td>AAE</td><td>1</td><td>3.2172077800000003</td><td>36.69322001</td></tr><tr><th>2</th><td>AH</td><td>ATR 736 738</td><td>ALG</td><td>AAE</td><td>2</td><td>7.8099694300000015</td><td>36.82156224</td></tr><tr><th>3</th><td>AH</td><td>738</td><td>CDG</td><td>AAE</td><td>1</td><td>2.5485676</td><td>49.009606559999995</td></tr><tr><th>4</th><td>AH</td><td>738</td><td>CDG</td><td>AAE</td><td>2</td><td>5.440587046358597</td><td>42.945415808607414</td></tr><tr><th>5</th><td>AH</td><td>738</td><td>CDG</td><td>AAE</td><td>3</td><td>7.8099694300000015</td><td>36.82156224</td></tr><tr><th>6</th><td>AH</td><td>738</td><td>IST</td><td>AAE</td><td>1</td><td>28.81518334</td><td>40.97652787</td></tr></table>"
       ],
       "metadata": {},
       "output_type": "pyout",
       "prompt_number": 43,
       "text": [
        "6x7 DataFrame\n",
        "| Row | airline | equipment     | iata1 | iata2 | interpoint_id | lon     |\n",
        "|-----|---------|---------------|-------|-------|---------------|---------|\n",
        "| 1   | \"AH\"    | \"ATR 736 738\" | \"ALG\" | \"AAE\" | 1             | 3.21721 |\n",
        "| 2   | \"AH\"    | \"ATR 736 738\" | \"ALG\" | \"AAE\" | 2             | 7.80997 |\n",
        "| 3   | \"AH\"    | \"738\"         | \"CDG\" | \"AAE\" | 1             | 2.54857 |\n",
        "| 4   | \"AH\"    | \"738\"         | \"CDG\" | \"AAE\" | 2             | 5.44059 |\n",
        "| 5   | \"AH\"    | \"738\"         | \"CDG\" | \"AAE\" | 3             | 7.80997 |\n",
        "| 6   | \"AH\"    | \"738\"         | \"IST\" | \"AAE\" | 1             | 28.8152 |\n",
        "\n",
        "| Row | lat     |\n",
        "|-----|---------|\n",
        "| 1   | 36.6932 |\n",
        "| 2   | 36.8216 |\n",
        "| 3   | 49.0096 |\n",
        "| 4   | 42.9454 |\n",
        "| 5   | 36.8216 |\n",
        "| 6   | 40.9765 |"
       ]
      }
     ],
     "prompt_number": 43
    },
    {
     "cell_type": "heading",
     "level": 5,
     "metadata": {},
     "source": [
      "Add a column for use in Tableau:"
     ]
    },
    {
     "cell_type": "code",
     "collapsed": false,
     "input": [
      "segment = [string(all_dfs[i,:iata1] ,\" - \",  all_dfs[i,:iata2] ) for i in 1:nrow(all_dfs)]\n",
      "all_dfs[:segment] = segment"
     ],
     "language": "python",
     "metadata": {},
     "outputs": [
      {
       "metadata": {},
       "output_type": "pyout",
       "prompt_number": 44,
       "text": [
        "273230-element Array{Union(UTF8String,ASCIIString),1}:\n",
        " \"ALG - AAE\"\n",
        " \"ALG - AAE\"\n",
        " \"CDG - AAE\"\n",
        " \"CDG - AAE\"\n",
        " \"CDG - AAE\"\n",
        " \"IST - AAE\"\n",
        " \"IST - AAE\"\n",
        " \"IST - AAE\"\n",
        " \"IST - AAE\"\n",
        " \"LYS - AAE\"\n",
        " \"LYS - AAE\"\n",
        " \"MRS - AAE\"\n",
        " \"MRS - AAE\"\n",
        " \u22ee          \n",
        " \"LHR - ZYL\"\n",
        " \"LHR - ZYL\"\n",
        " \"LHR - ZYL\"\n",
        " \"LHR - ZYL\"\n",
        " \"LHR - ZYL\"\n",
        " \"LHR - ZYL\"\n",
        " \"LHR - ZYL\"\n",
        " \"LHR - ZYL\"\n",
        " \"LHR - ZYL\"\n",
        " \"LHR - ZYL\"\n",
        " \"LHR - ZYL\"\n",
        " \"LHR - ZYL\""
       ]
      }
     ],
     "prompt_number": 44
    },
    {
     "cell_type": "code",
     "collapsed": false,
     "input": [
      "head(all_dfs)"
     ],
     "language": "python",
     "metadata": {},
     "outputs": [
      {
       "html": [
        "<table class=\"data-frame\"><tr><th></th><th>airline</th><th>equipment</th><th>iata1</th><th>iata2</th><th>interpoint_id</th><th>lon</th><th>lat</th></tr><tr><th>1</th><td>AH</td><td>ATR 736 738</td><td>ALG</td><td>AAE</td><td>1</td><td>3.2172077800000003</td><td>36.69322001</td></tr><tr><th>2</th><td>AH</td><td>ATR 736 738</td><td>ALG</td><td>AAE</td><td>2</td><td>7.8099694300000015</td><td>36.82156224</td></tr><tr><th>3</th><td>AH</td><td>738</td><td>CDG</td><td>AAE</td><td>1</td><td>2.5485676</td><td>49.009606559999995</td></tr><tr><th>4</th><td>AH</td><td>738</td><td>CDG</td><td>AAE</td><td>2</td><td>5.440587046358597</td><td>42.945415808607414</td></tr><tr><th>5</th><td>AH</td><td>738</td><td>CDG</td><td>AAE</td><td>3</td><td>7.8099694300000015</td><td>36.82156224</td></tr><tr><th>6</th><td>AH</td><td>738</td><td>IST</td><td>AAE</td><td>1</td><td>28.81518334</td><td>40.97652787</td></tr></table>"
       ],
       "metadata": {},
       "output_type": "pyout",
       "prompt_number": 49,
       "text": [
        "6x7 DataFrame\n",
        "| Row | airline | equipment     | iata1 | iata2 | interpoint_id | lon     |\n",
        "|-----|---------|---------------|-------|-------|---------------|---------|\n",
        "| 1   | \"AH\"    | \"ATR 736 738\" | \"ALG\" | \"AAE\" | 1             | 3.21721 |\n",
        "| 2   | \"AH\"    | \"ATR 736 738\" | \"ALG\" | \"AAE\" | 2             | 7.80997 |\n",
        "| 3   | \"AH\"    | \"738\"         | \"CDG\" | \"AAE\" | 1             | 2.54857 |\n",
        "| 4   | \"AH\"    | \"738\"         | \"CDG\" | \"AAE\" | 2             | 5.44059 |\n",
        "| 5   | \"AH\"    | \"738\"         | \"CDG\" | \"AAE\" | 3             | 7.80997 |\n",
        "| 6   | \"AH\"    | \"738\"         | \"IST\" | \"AAE\" | 1             | 28.8152 |\n",
        "\n",
        "| Row | lat     |\n",
        "|-----|---------|\n",
        "| 1   | 36.6932 |\n",
        "| 2   | 36.8216 |\n",
        "| 3   | 49.0096 |\n",
        "| 4   | 42.9454 |\n",
        "| 5   | 36.8216 |\n",
        "| 6   | 40.9765 |"
       ]
      }
     ],
     "prompt_number": 49
    },
    {
     "cell_type": "heading",
     "level": 5,
     "metadata": {},
     "source": [
      " Save:"
     ]
    },
    {
     "cell_type": "code",
     "collapsed": false,
     "input": [
      "writetable(ouput_file_name,all_dfs,header=true)"
     ],
     "language": "python",
     "metadata": {},
     "outputs": [],
     "prompt_number": 45
    }
   ],
   "metadata": {}
  }
 ]
}